{
 "cells": [
  {
   "cell_type": "markdown",
   "source": [
    "# 配置环境"
   ],
   "metadata": {
    "id": "5HMRDNgpWTBF"
   }
  },
  {
   "cell_type": "code",
   "execution_count": null,
   "source": [
    "cd /content/drive/MyDrive/mask rcnn_test"
   ],
   "outputs": [],
   "metadata": {
    "colab": {
     "base_uri": "https://localhost:8080/"
    },
    "id": "4EHfsD8gB5i6",
    "outputId": "abb6fc8b-e799-4ca5-ad5c-c9cb27c236ef"
   }
  },
  {
   "cell_type": "code",
   "execution_count": null,
   "source": [
    "!pip uninstall tensorflow --yes"
   ],
   "outputs": [],
   "metadata": {
    "colab": {
     "base_uri": "https://localhost:8080/"
    },
    "id": "XOp2qdKHFCpA",
    "outputId": "081d99d0-650c-48de-f848-8ff4bfbed328"
   }
  },
  {
   "cell_type": "code",
   "execution_count": null,
   "source": [
    "!pip uninstall PyYAML --yes"
   ],
   "outputs": [],
   "metadata": {
    "colab": {
     "base_uri": "https://localhost:8080/"
    },
    "id": "YxGu_bnQOzbX",
    "outputId": "3558f72d-5e50-4449-bd01-4580e8680bda"
   }
  },
  {
   "cell_type": "code",
   "execution_count": null,
   "source": [
    "!pip install -r requirements.txt"
   ],
   "outputs": [],
   "metadata": {
    "colab": {
     "base_uri": "https://localhost:8080/"
    },
    "id": "8YAWapMjDN15",
    "outputId": "671af366-2cb2-4c8d-d992-e0b4ba7cb7ad"
   }
  },
  {
   "cell_type": "code",
   "execution_count": null,
   "source": [
    "!pip list"
   ],
   "outputs": [],
   "metadata": {
    "colab": {
     "base_uri": "https://localhost:8080/"
    },
    "id": "ESnYtv3QD0UQ",
    "outputId": "16c47ee9-f40b-44c7-bdc6-900bbccee7b0"
   }
  },
  {
   "cell_type": "code",
   "execution_count": null,
   "source": [
    "cd /content/drive/MyDrive/mask rcnn_test"
   ],
   "outputs": [],
   "metadata": {
    "colab": {
     "base_uri": "https://localhost:8080/"
    },
    "id": "J6BEMQCmDKaZ",
    "outputId": "aa76c4da-5c17-44e7-8073-4b6fc111a977"
   }
  },
  {
   "cell_type": "markdown",
   "source": [
    "# 导入相关包"
   ],
   "metadata": {
    "id": "gdElP1hHvW9L"
   }
  },
  {
   "cell_type": "code",
   "execution_count": 1,
   "source": [
    "# -*- coding: utf-8 -*-\r\n",
    "\r\n",
    "import os\r\n",
    "import sys\r\n",
    "import random\r\n",
    "import math\r\n",
    "import re\r\n",
    "import time\r\n",
    "import numpy as np\r\n",
    "import cv2\r\n",
    "import matplotlib\r\n",
    "import matplotlib.pyplot as plt\r\n",
    "import tensorflow as tf\r\n",
    "from mrcnn.config import Config\r\n",
    "#import utils\r\n",
    "from mrcnn import model as modellib,utils\r\n",
    "from mrcnn import visualize\r\n",
    "import yaml\r\n",
    "from mrcnn.model import log\r\n",
    "from PIL import Image\r\n",
    "\"\"\"\r\n",
    "加入自己类别名称\r\n",
    "更改类别个数\r\n",
    "\"\"\"\r\n",
    "\r\n",
    "# os.environ[\"CUDA_VISIBLE_DEVICES\"] = \"0\"\r\n",
    "# Root directory of the project\r\n",
    "ROOT_DIR = os.getcwd()\r\n",
    "\r\n",
    "#ROOT_DIR = os.path.abspath(\"../\")\r\n",
    "# Directory to save logs and trained model\r\n",
    "MODEL_DIR = os.path.join(ROOT_DIR, \"logs\")\r\n",
    "\r\n",
    "iter_num=0\r\n",
    "\r\n",
    "%matplotlib inline \r\n",
    "# Local path to trained weights file\r\n",
    "COCO_MODEL_PATH = os.path.join(ROOT_DIR, \"saved_weight/mask_rcnn_coco.h5\")\r\n",
    "# Download COCO trained weights from Releases if needed\r\n",
    "if not os.path.exists(COCO_MODEL_PATH):\r\n",
    "    utils.download_trained_weights(COCO_MODEL_PATH)\r\n"
   ],
   "outputs": [
    {
     "output_type": "stream",
     "name": "stderr",
     "text": [
      "Using TensorFlow backend.\n"
     ]
    }
   ],
   "metadata": {
    "colab": {
     "base_uri": "https://localhost:8080/"
    },
    "id": "ZkmQOVkZaRw8",
    "outputId": "14946aaf-8331-4f97-a320-0071a6a7d8bb"
   }
  },
  {
   "cell_type": "markdown",
   "source": [
    "# Configuration"
   ],
   "metadata": {
    "id": "rJOgZX2Kvbse"
   }
  },
  {
   "cell_type": "code",
   "execution_count": 3,
   "source": [
    "class CategoryConfig(Config):\r\n",
    "    \"\"\"Configuration for training on the toy shapes dataset.\r\n",
    "    Derives from the base Config class and overrides values specific\r\n",
    "    to the toy shapes dataset.\r\n",
    "    \"\"\"\r\n",
    "    # Give the configuration a recognizable name\r\n",
    "    NAME = \"shapes\"\r\n",
    "\r\n",
    "    # Train on 1 GPU and 8 images per GPU. We can put multiple images on each\r\n",
    "    # GPU because the images are small. Batch size is 8 (GPUs * images/GPU).\r\n",
    "    GPU_COUNT = 1\r\n",
    "    IMAGES_PER_GPU = 1\r\n",
    "\r\n",
    "    # Number of classes (including background)\r\n",
    "    NUM_CLASSES = 1 + 2  # background + 3 shapes\r\n",
    "\r\n",
    "    # Use small images for faster training. Set the limits of the small side\r\n",
    "    # the large side, and that determines the image shape.\r\n",
    "    IMAGE_MIN_DIM = 320\r\n",
    "    IMAGE_MAX_DIM = 384\r\n",
    "\r\n",
    "    # Use smaller anchors because our image and objects are small\r\n",
    "    RPN_ANCHOR_SCALES = (8 * 6, 16 * 6, 32 * 6, 64 * 6, 128 * 6)  # anchor side in pixels\r\n",
    "\r\n",
    "    # Reduce training ROIs per image because the images are small and have\r\n",
    "    # few objects. Aim to allow ROI sampling to pick 33% positive ROIs.\r\n",
    "    TRAIN_ROIS_PER_IMAGE = 100\r\n",
    "\r\n",
    "    # Use a small epoch since the data is simple\r\n",
    "    STEPS_PER_EPOCH = 100\r\n",
    "\r\n",
    "    # use small validation steps since the epoch is small\r\n",
    "    VALIDATION_STEPS = 50"
   ],
   "outputs": [],
   "metadata": {
    "colab": {
     "base_uri": "https://localhost:8080/"
    },
    "id": "-KwwafvxaRw-",
    "outputId": "29d65cc6-da62-46be-a201-b9e2112ce821"
   }
  },
  {
   "cell_type": "markdown",
   "source": [
    "# Dataset"
   ],
   "metadata": {
    "id": "yO6NfB4evmzr"
   }
  },
  {
   "cell_type": "code",
   "execution_count": 4,
   "source": [
    "class CategoryDataset(utils.Dataset):\r\n",
    "    # 得到该图中有多少个实例（物体）\r\n",
    "    def get_obj_index(self, image):\r\n",
    "        n = np.max(image)\r\n",
    "        return n\r\n",
    "\r\n",
    "    # 解析labelme中得到的yaml文件，从而得到mask每一层对应的实例标签\r\n",
    "    def from_yaml_get_class(self, image_id):\r\n",
    "        info = self.image_info[image_id]\r\n",
    "        with open(info['yaml_path']) as f:\r\n",
    "            temp = yaml.load(f.read(), Loader=yaml.FullLoader)\r\n",
    "            labels = temp['label_names']\r\n",
    "            del labels[0]\r\n",
    "        return labels\r\n",
    "\r\n",
    "    # 重新写draw_mask\r\n",
    "    def draw_mask(self, num_obj, mask, image, image_id):\r\n",
    "        info = self.image_info[image_id]\r\n",
    "        for index in range(num_obj):\r\n",
    "            for i in range(np.shape(mask)[1]):\r\n",
    "                for j in range(np.shape(mask)[0]):\r\n",
    "                    at_pixel = image.getpixel((i, j))\r\n",
    "                    if at_pixel == index + 1:\r\n",
    "                        mask[j, i, index] =1\r\n",
    "        return mask\r\n",
    "\r\n",
    "    # 重新写load_shapes，里面包含自己的自己的类别\r\n",
    "    # self.add_class(\"shapes\", 1, \"category1\") \r\n",
    "    #并在self.image_info信息中添加了path、mask_path 、yaml_path\r\n",
    "    def load_shapes(self, count, img_floder, mask_floder, imglist, yaml_floder):\r\n",
    "        \r\n",
    "        # TODO=======================需修改========================\r\n",
    "        self.add_class(\"shapes\", 1, \"category1\") \r\n",
    "        self.add_class(\"shapes\", 2, \"category2\") \r\n",
    "        # TODO=========================需修改======================\r\n",
    "        \r\n",
    "        for i in range(count):\r\n",
    "            img = imglist[i]\r\n",
    "            if img.endswith(\".jpg\"):\r\n",
    "                img_name = img.split(\".\")[0]\r\n",
    "                img_path = img_floder + img\r\n",
    "                mask_path = mask_floder + img_name + \".png\"\r\n",
    "                yaml_path = yaml_floder + img_name + \".yaml\"\r\n",
    "                self.add_image(\"shapes\", image_id=i, path=img_path, mask_path=mask_path,yaml_path=yaml_path)\r\n",
    "    \r\n",
    "    # 重写load_mask\r\n",
    "    def load_mask(self, image_id):\r\n",
    "        info = self.image_info[image_id]\r\n",
    "        img = Image.open(info['mask_path'])\r\n",
    "        num_obj = self.get_obj_index(img)\r\n",
    "        mask = np.zeros([np.shape(img)[0], np.shape(img)[1], num_obj], dtype=np.uint8)\r\n",
    "        mask = self.draw_mask(num_obj, mask, img, image_id)\r\n",
    "        labels=[]\r\n",
    "        labels=self.from_yaml_get_class(image_id)\r\n",
    "        labels_form=[]\r\n",
    "\r\n",
    "        # TODO=========================需修改======================\r\n",
    "        for i in range(len(labels)):\r\n",
    "            if labels[i].find(\"category1\")!=-1:\r\n",
    "                labels_form.append(\"category1\")\r\n",
    "            elif labels[i].find(\"category2\")!=-1:\r\n",
    "                labels_form.append(\"category2\")\r\n",
    "        # TODo=========================需修改======================\r\n",
    "        \r\n",
    "        class_ids = np.array([self.class_names.index(s) for s in labels_form])\r\n",
    "        return mask, class_ids.astype(np.int32)"
   ],
   "outputs": [],
   "metadata": {
    "id": "cdyZIf0WaRxA"
   }
  },
  {
   "cell_type": "markdown",
   "source": [
    "# Notebook preference"
   ],
   "metadata": {
    "id": "lImzhgmLvpIT"
   }
  },
  {
   "cell_type": "code",
   "execution_count": 5,
   "source": [
    "def get_ax(rows=1, cols=1, size=8):\r\n",
    "    \"\"\"Return a Matplotlib Axes array to be used in\r\n",
    "    all visualizations in the notebook. Provide a\r\n",
    "    central point to control graph sizes.\r\n",
    "\r\n",
    "    Change the default size attribute to control the size\r\n",
    "    of rendered images\r\n",
    "    \"\"\"\r\n",
    "    _, ax = plt.subplots(rows, cols, figsize=(size * cols, size * rows))\r\n",
    "    return ax\r\n"
   ],
   "outputs": [],
   "metadata": {
    "id": "Vyw2zeRTaRxC"
   }
  },
  {
   "cell_type": "markdown",
   "source": [
    "# 路径"
   ],
   "metadata": {
    "id": "IhVaBMQVvza7"
   }
  },
  {
   "cell_type": "code",
   "execution_count": 6,
   "source": [
    "#基础设置\r\n",
    "dataset_root_path=\"dataset/category_dataset/\"\r\n",
    "img_floder = dataset_root_path + \"imgs/\"\r\n",
    "mask_floder = dataset_root_path + \"mask/\"\r\n",
    "yaml_floder = dataset_root_path + \"yaml/\"\r\n",
    "imglist = os.listdir(img_floder)\r\n",
    "count = len(imglist)\r\n",
    "np.random.seed(10101)\r\n",
    "np.random.shuffle(imglist)\r\n",
    "train_imglist = imglist[:int(count*0.9)]\r\n",
    "val_imglist = imglist[int(count*0.9):]\r\n"
   ],
   "outputs": [],
   "metadata": {
    "id": "SlBTyMw4aRxC"
   }
  },
  {
   "cell_type": "code",
   "execution_count": 7,
   "source": [
    "# 加载配置文件\r\n",
    "config = CategoryConfig()\r\n",
    "# 计算训练集和验证集长度\r\n",
    "config.STEPS_PER_EPOCH = len(train_imglist)//config.IMAGES_PER_GPU\r\n",
    "config.VALIDATION_STEPS = len(val_imglist)//config.IMAGES_PER_GPU\r\n",
    "config.display()"
   ],
   "outputs": [
    {
     "output_type": "stream",
     "name": "stdout",
     "text": [
      "\n",
      "Configurations:\n",
      "BACKBONE                       resnet50\n",
      "BACKBONE_STRIDES               [4, 8, 16, 32, 64]\n",
      "BATCH_SIZE                     1\n",
      "BBOX_STD_DEV                   [0.1 0.1 0.2 0.2]\n",
      "COMPUTE_BACKBONE_SHAPE         None\n",
      "DETECTION_MAX_INSTANCES        100\n",
      "DETECTION_MIN_CONFIDENCE       0.75\n",
      "DETECTION_NMS_THRESHOLD        0.3\n",
      "FPN_CLASSIF_FC_LAYERS_SIZE     1024\n",
      "GPU_COUNT                      1\n",
      "GRADIENT_CLIP_NORM             5.0\n",
      "IMAGES_PER_GPU                 1\n",
      "IMAGE_MAX_DIM                  384\n",
      "IMAGE_META_SIZE                15\n",
      "IMAGE_MIN_DIM                  320\n",
      "IMAGE_MIN_SCALE                0\n",
      "IMAGE_RESIZE_MODE              square\n",
      "IMAGE_SHAPE                    [384 384   3]\n",
      "LEARNING_MOMENTUM              0.9\n",
      "LEARNING_RATE                  0.001\n",
      "LOSS_WEIGHTS                   {'rpn_class_loss': 1.0, 'rpn_bbox_loss': 1.0, 'mrcnn_class_loss': 1.0, 'mrcnn_bbox_loss': 1.0, 'mrcnn_mask_loss': 1.0}\n",
      "MASK_POOL_SIZE                 14\n",
      "MASK_SHAPE                     [28, 28]\n",
      "MAX_GT_INSTANCES               30\n",
      "MEAN_PIXEL                     [123.7 116.8 103.9]\n",
      "MINI_MASK_SHAPE                (56, 56)\n",
      "NAME                           shapes\n",
      "NUM_CLASSES                    3\n",
      "POOL_SIZE                      7\n",
      "POST_NMS_ROIS_INFERENCE        1000\n",
      "POST_NMS_ROIS_TRAINING         2000\n",
      "ROI_POSITIVE_RATIO             0.33\n",
      "RPN_ANCHOR_RATIOS              [0.5, 1, 2]\n",
      "RPN_ANCHOR_SCALES              (48, 96, 192, 384, 768)\n",
      "RPN_ANCHOR_STRIDE              1\n",
      "RPN_BBOX_STD_DEV               [0.1 0.1 0.2 0.2]\n",
      "RPN_NMS_THRESHOLD              0.7\n",
      "RPN_TRAIN_ANCHORS_PER_IMAGE    256\n",
      "STEPS_PER_EPOCH                8\n",
      "TOP_DOWN_PYRAMID_SIZE          256\n",
      "TRAIN_BN                       False\n",
      "TRAIN_ROIS_PER_IMAGE           100\n",
      "USE_MINI_MASK                  True\n",
      "USE_RPN_ROIS                   True\n",
      "VALIDATION_STEPS               1\n",
      "WEIGHT_DECAY                   0.0001\n",
      "\n",
      "\n"
     ]
    }
   ],
   "metadata": {}
  },
  {
   "cell_type": "markdown",
   "source": [
    "# 准备数据集"
   ],
   "metadata": {
    "id": "oI3oruX1v1eN"
   }
  },
  {
   "cell_type": "code",
   "execution_count": 8,
   "source": [
    "# 训练数据集准备\r\n",
    "dataset_train = CategoryDataset()\r\n",
    "dataset_train.load_shapes(len(train_imglist), img_floder, mask_floder, train_imglist, yaml_floder)\r\n",
    "dataset_train.prepare()\r\n",
    "print(\"dataset_train-->\",dataset_train._image_ids)\r\n",
    "print(\"Train Image Count: {}\".format(len(dataset_train.image_ids)))\r\n",
    "print(\"Train Class Count: {}\".format(dataset_train.num_classes))\r\n",
    "for i, info in enumerate(dataset_train.class_info):\r\n",
    "    print(\"{:3}. {:50}\".format(i, info['name']))\r\n",
    "# 验证数据集准备\r\n",
    "dataset_val = CategoryDataset()\r\n",
    "dataset_val.load_shapes(len(val_imglist), img_floder, mask_floder, val_imglist, yaml_floder)\r\n",
    "dataset_val.prepare()\r\n",
    "print(\"dataset_val-->\",dataset_val._image_ids)\r\n",
    "\r\n",
    "print(\"Validation Image Count: {}\".format(len(dataset_val.image_ids)))\r\n",
    "print(\"Validation Class Count: {}\".format(dataset_val.num_classes))\r\n",
    "for i, info in enumerate(dataset_val.class_info):\r\n",
    "    print(\"{:3}. {:50}\".format(i, info['name']))"
   ],
   "outputs": [
    {
     "output_type": "stream",
     "name": "stdout",
     "text": [
      "dataset_train--> [0 1 2 3 4 5 6 7]\n",
      "Train Image Count: 8\n",
      "Train Class Count: 3\n",
      "  0. BG                                                \n",
      "  1. category1                                         \n",
      "  2. category2                                         \n",
      "dataset_val--> [0]\n",
      "Validation Image Count: 1\n",
      "Validation Class Count: 3\n",
      "  0. BG                                                \n",
      "  1. category1                                         \n",
      "  2. category2                                         \n"
     ]
    }
   ],
   "metadata": {
    "colab": {
     "base_uri": "https://localhost:8080/"
    },
    "id": "eL4Fe-wzaRxD",
    "outputId": "73e96440-72a7-478f-c45a-e7db8d3607fb"
   }
  },
  {
   "cell_type": "code",
   "execution_count": 9,
   "source": [
    "# Load and display random samples\r\n",
    "image_ids = np.random.choice(dataset_train.image_ids, 4)\r\n",
    "for image_id in image_ids:\r\n",
    "    image = dataset_train.load_image(image_id)\r\n",
    "    mask, class_ids = dataset_train.load_mask(image_id)\r\n",
    "    visualize.display_top_masks(image, mask, class_ids, dataset_train.class_names)"
   ],
   "outputs": [
    {
     "output_type": "display_data",
     "data": {
      "image/png": "[encoded data removed]",
      "text/plain": [
       "<Figure size 1008x360 with 5 Axes>"
      ]
     },
     "metadata": {
      "needs_background": "light"
     }
    },
    {
     "output_type": "display_data",
     "data": {
      "image/png": "[encoded data removed]",
      "text/plain": [
       "<Figure size 1008x360 with 5 Axes>"
      ]
     },
     "metadata": {
      "needs_background": "light"
     }
    },
    {
     "output_type": "display_data",
     "data": {
      "image/png": "[encoded data removed]",
      "text/plain": [
       "<Figure size 1008x360 with 5 Axes>"
      ]
     },
     "metadata": {
      "needs_background": "light"
     }
    },
    {
     "output_type": "display_data",
     "data": {
      "image/png": "[encoded data removed]",
      "text/plain": [
       "<Figure size 1008x360 with 5 Axes>"
      ]
     },
     "metadata": {
      "needs_background": "light"
     }
    }
   ],
   "metadata": {
    "colab": {
     "base_uri": "https://localhost:8080/",
     "height": 624
    },
    "id": "om8aGzInccv_",
    "outputId": "1689b7bc-d0b6-4212-d1d4-14470725478d"
   }
  },
  {
   "cell_type": "markdown",
   "source": [
    "# Create Model"
   ],
   "metadata": {
    "id": "40RrRiJGv5jS"
   }
  },
  {
   "cell_type": "code",
   "execution_count": 10,
   "source": [
    "# Create model in training mode\r\n",
    "model = modellib.MaskRCNN(mode=\"training\", config=config,\r\n",
    "                          model_dir=MODEL_DIR)\r\n"
   ],
   "outputs": [
    {
     "output_type": "stream",
     "name": "stdout",
     "text": [
      "WARNING:tensorflow:From D:\\Anaconda3\\envs\\mask_r_cnn\\lib\\site-packages\\keras\\backend\\tensorflow_backend.py:507: The name tf.placeholder is deprecated. Please use tf.compat.v1.placeholder instead.\n",
      "\n",
      "WARNING:tensorflow:From D:\\Anaconda3\\envs\\mask_r_cnn\\lib\\site-packages\\keras\\backend\\tensorflow_backend.py:68: The name tf.get_default_graph is deprecated. Please use tf.compat.v1.get_default_graph instead.\n",
      "\n",
      "WARNING:tensorflow:From D:\\Anaconda3\\envs\\mask_r_cnn\\lib\\site-packages\\keras\\backend\\tensorflow_backend.py:3831: The name tf.random_uniform is deprecated. Please use tf.random.uniform instead.\n",
      "\n",
      "WARNING:tensorflow:From D:\\Anaconda3\\envs\\mask_r_cnn\\lib\\site-packages\\keras\\backend\\tensorflow_backend.py:3655: The name tf.nn.max_pool is deprecated. Please use tf.nn.max_pool2d instead.\n",
      "\n",
      "WARNING:tensorflow:From D:\\Anaconda3\\envs\\mask_r_cnn\\lib\\site-packages\\keras\\backend\\tensorflow_backend.py:1940: The name tf.image.resize_nearest_neighbor is deprecated. Please use tf.compat.v1.image.resize_nearest_neighbor instead.\n",
      "\n",
      "WARNING:tensorflow:From D:\\Anaconda3\\envs\\mask_r_cnn\\lib\\site-packages\\tensorflow_core\\python\\ops\\array_ops.py:1475: where (from tensorflow.python.ops.array_ops) is deprecated and will be removed in a future version.\n",
      "Instructions for updating:\n",
      "Use tf.where in 2.0, which has the same broadcast rule as np.where\n",
      "WARNING:tensorflow:From e:\\My Projects\\mask rcnn_test\\mrcnn\\model.py:554: The name tf.random_shuffle is deprecated. Please use tf.random.shuffle instead.\n",
      "\n",
      "WARNING:tensorflow:From e:\\My Projects\\mask rcnn_test\\mrcnn\\utils.py:200: The name tf.log is deprecated. Please use tf.math.log instead.\n",
      "\n",
      "WARNING:tensorflow:From e:\\My Projects\\mask rcnn_test\\mrcnn\\model.py:601: calling crop_and_resize_v1 (from tensorflow.python.ops.image_ops_impl) with box_ind is deprecated and will be removed in a future version.\n",
      "Instructions for updating:\n",
      "box_ind is deprecated, use box_indices instead\n"
     ]
    }
   ],
   "metadata": {
    "colab": {
     "base_uri": "https://localhost:8080/"
    },
    "id": "IoQhxpFdaRxD",
    "outputId": "64816ff5-ca36-4130-cef2-59dea4c9c49c"
   }
  },
  {
   "cell_type": "code",
   "execution_count": 11,
   "source": [
    "# Which weights to start with?\r\n",
    "init_with = \"coco\"  # imagenet, coco, or last\r\n",
    "\r\n",
    "if init_with == \"imagenet\":\r\n",
    "    model.load_weights(model.get_imagenet_weights(), by_name=True)\r\n",
    "elif init_with == \"coco\":\r\n",
    "    # Load weights trained on MS COCO, but skip layers that\r\n",
    "    # are different due to the different number of classes\r\n",
    "    # See README for instructions to download the COCO weights\r\n",
    "    model.load_weights(COCO_MODEL_PATH, by_name=True,\r\n",
    "                       exclude=[\"mrcnn_class_logits\", \"mrcnn_bbox_fc\",\r\n",
    "                                \"mrcnn_bbox\", \"mrcnn_mask\"])\r\n",
    "elif init_with == \"last\":\r\n",
    "    # Load the last model you trained and continue training\r\n",
    "    model.load_weights(model.find_last()[1], by_name=True)\r\n"
   ],
   "outputs": [
    {
     "output_type": "stream",
     "name": "stdout",
     "text": [
      "WARNING:tensorflow:From D:\\Anaconda3\\envs\\mask_r_cnn\\lib\\site-packages\\keras\\backend\\tensorflow_backend.py:167: The name tf.get_default_session is deprecated. Please use tf.compat.v1.get_default_session instead.\n",
      "\n",
      "WARNING:tensorflow:From D:\\Anaconda3\\envs\\mask_r_cnn\\lib\\site-packages\\keras\\backend\\tensorflow_backend.py:174: The name tf.ConfigProto is deprecated. Please use tf.compat.v1.ConfigProto instead.\n",
      "\n",
      "WARNING:tensorflow:From D:\\Anaconda3\\envs\\mask_r_cnn\\lib\\site-packages\\keras\\backend\\tensorflow_backend.py:179: The name tf.Session is deprecated. Please use tf.compat.v1.Session instead.\n",
      "\n",
      "WARNING:tensorflow:From D:\\Anaconda3\\envs\\mask_r_cnn\\lib\\site-packages\\keras\\backend\\tensorflow_backend.py:183: The name tf.global_variables is deprecated. Please use tf.compat.v1.global_variables instead.\n",
      "\n",
      "WARNING:tensorflow:From D:\\Anaconda3\\envs\\mask_r_cnn\\lib\\site-packages\\keras\\backend\\tensorflow_backend.py:192: The name tf.is_variable_initialized is deprecated. Please use tf.compat.v1.is_variable_initialized instead.\n",
      "\n",
      "WARNING:tensorflow:From D:\\Anaconda3\\envs\\mask_r_cnn\\lib\\site-packages\\keras\\backend\\tensorflow_backend.py:199: The name tf.variables_initializer is deprecated. Please use tf.compat.v1.variables_initializer instead.\n",
      "\n"
     ]
    }
   ],
   "metadata": {
    "id": "dAKg9M0waRxD"
   }
  },
  {
   "cell_type": "markdown",
   "source": [
    "# 训练"
   ],
   "metadata": {
    "id": "TWXRc9RLwB3j"
   }
  },
  {
   "cell_type": "code",
   "execution_count": 12,
   "source": [
    "# Train the head branches\r\n",
    "# Passing layers=\"heads\" freezes all layers except the head\r\n",
    "# layers. You can also pass a regular expression to select\r\n",
    "# which layers to train by name pattern.\r\n",
    "model.train(dataset_train, dataset_val,\r\n",
    "            learning_rate=config.LEARNING_RATE,\r\n",
    "            epochs=2,\r\n",
    "            layers='heads')\r\n",
    "\r\n"
   ],
   "outputs": [
    {
     "output_type": "stream",
     "name": "stdout",
     "text": [
      "\n",
      "Starting at epoch 0. LR=0.001\n",
      "\n",
      "Checkpoint Path: e:\\My Projects\\mask rcnn_test\\logs\\shapes20210910T1722\\mask_rcnn_shapes_{epoch:04d}.h5\n",
      "Selecting layers to train\n",
      "fpn_c5p5               (Conv2D)\n",
      "fpn_c4p4               (Conv2D)\n",
      "fpn_c3p3               (Conv2D)\n",
      "fpn_c2p2               (Conv2D)\n",
      "fpn_p5                 (Conv2D)\n",
      "fpn_p2                 (Conv2D)\n",
      "fpn_p3                 (Conv2D)\n",
      "fpn_p4                 (Conv2D)\n",
      "In model:  rpn_model\n",
      "    rpn_conv_shared        (Conv2D)\n",
      "    rpn_class_raw          (Conv2D)\n",
      "    rpn_bbox_pred          (Conv2D)\n",
      "mrcnn_mask_conv1       (TimeDistributed)\n",
      "mrcnn_mask_bn1         (TimeDistributed)\n",
      "mrcnn_mask_conv2       (TimeDistributed)\n",
      "mrcnn_mask_bn2         (TimeDistributed)\n",
      "mrcnn_class_conv1      (TimeDistributed)\n",
      "mrcnn_class_bn1        (TimeDistributed)\n",
      "mrcnn_mask_conv3       (TimeDistributed)\n",
      "mrcnn_mask_bn3         (TimeDistributed)\n",
      "mrcnn_class_conv2      (TimeDistributed)\n",
      "mrcnn_class_bn2        (TimeDistributed)\n",
      "mrcnn_mask_conv4       (TimeDistributed)\n",
      "mrcnn_mask_bn4         (TimeDistributed)\n",
      "mrcnn_bbox_fc          (TimeDistributed)\n",
      "mrcnn_mask_deconv      (TimeDistributed)\n",
      "mrcnn_class_logits     (TimeDistributed)\n",
      "mrcnn_mask             (TimeDistributed)\n",
      "WARNING:tensorflow:From D:\\Anaconda3\\envs\\mask_r_cnn\\lib\\site-packages\\keras\\optimizers.py:757: The name tf.train.Optimizer is deprecated. Please use tf.compat.v1.train.Optimizer instead.\n",
      "\n"
     ]
    },
    {
     "output_type": "stream",
     "name": "stderr",
     "text": [
      "D:\\Anaconda3\\envs\\mask_r_cnn\\lib\\site-packages\\tensorflow_core\\python\\framework\\indexed_slices.py:424: UserWarning: Converting sparse IndexedSlices to a dense Tensor of unknown shape. This may consume a large amount of memory.\n",
      "  \"Converting sparse IndexedSlices to a dense Tensor of unknown shape. \"\n",
      "D:\\Anaconda3\\envs\\mask_r_cnn\\lib\\site-packages\\tensorflow_core\\python\\framework\\indexed_slices.py:424: UserWarning: Converting sparse IndexedSlices to a dense Tensor of unknown shape. This may consume a large amount of memory.\n",
      "  \"Converting sparse IndexedSlices to a dense Tensor of unknown shape. \"\n",
      "D:\\Anaconda3\\envs\\mask_r_cnn\\lib\\site-packages\\tensorflow_core\\python\\framework\\indexed_slices.py:424: UserWarning: Converting sparse IndexedSlices to a dense Tensor of unknown shape. This may consume a large amount of memory.\n",
      "  \"Converting sparse IndexedSlices to a dense Tensor of unknown shape. \"\n"
     ]
    },
    {
     "output_type": "stream",
     "name": "stdout",
     "text": [
      "WARNING:tensorflow:From D:\\Anaconda3\\envs\\mask_r_cnn\\lib\\site-packages\\keras\\backend\\tensorflow_backend.py:976: The name tf.assign_add is deprecated. Please use tf.compat.v1.assign_add instead.\n",
      "\n",
      "WARNING:tensorflow:From D:\\Anaconda3\\envs\\mask_r_cnn\\lib\\site-packages\\keras\\backend\\tensorflow_backend.py:963: The name tf.assign is deprecated. Please use tf.compat.v1.assign instead.\n",
      "\n",
      "WARNING:tensorflow:From D:\\Anaconda3\\envs\\mask_r_cnn\\lib\\site-packages\\keras\\callbacks.py:774: The name tf.summary.merge_all is deprecated. Please use tf.compat.v1.summary.merge_all instead.\n",
      "\n",
      "WARNING:tensorflow:From D:\\Anaconda3\\envs\\mask_r_cnn\\lib\\site-packages\\keras\\callbacks.py:777: The name tf.summary.FileWriter is deprecated. Please use tf.compat.v1.summary.FileWriter instead.\n",
      "\n",
      "Epoch 1/2\n",
      "5/8 [=================>............] - ETA: 48s - loss: 4.1152 - rpn_class_loss: 0.1559 - rpn_bbox_loss: 0.9618 - mrcnn_class_loss: 1.4212 - mrcnn_bbox_loss: 0.9133 - mrcnn_mask_loss: 0.6631 "
     ]
    },
    {
     "output_type": "error",
     "ename": "KeyboardInterrupt",
     "evalue": "",
     "traceback": [
      "\u001b[1;31m---------------------------------------------------------------------------\u001b[0m",
      "\u001b[1;31mKeyboardInterrupt\u001b[0m                         Traceback (most recent call last)",
      "\u001b[1;32m~\\AppData\\Local\\Temp/ipykernel_24120/3902124317.py\u001b[0m in \u001b[0;36m<module>\u001b[1;34m\u001b[0m\n\u001b[0;32m      6\u001b[0m             \u001b[0mlearning_rate\u001b[0m\u001b[1;33m=\u001b[0m\u001b[0mconfig\u001b[0m\u001b[1;33m.\u001b[0m\u001b[0mLEARNING_RATE\u001b[0m\u001b[1;33m,\u001b[0m\u001b[1;33m\u001b[0m\u001b[1;33m\u001b[0m\u001b[0m\n\u001b[0;32m      7\u001b[0m             \u001b[0mepochs\u001b[0m\u001b[1;33m=\u001b[0m\u001b[1;36m2\u001b[0m\u001b[1;33m,\u001b[0m\u001b[1;33m\u001b[0m\u001b[1;33m\u001b[0m\u001b[0m\n\u001b[1;32m----> 8\u001b[1;33m             layers='heads')\n\u001b[0m\u001b[0;32m      9\u001b[0m \u001b[1;33m\u001b[0m\u001b[0m\n",
      "\u001b[1;32me:\\My Projects\\mask rcnn_test\\mrcnn\\model.py\u001b[0m in \u001b[0;36mtrain\u001b[1;34m(self, train_dataset, val_dataset, learning_rate, epochs, layers, augmentation)\u001b[0m\n\u001b[0;32m   2350\u001b[0m             \u001b[0mmax_queue_size\u001b[0m\u001b[1;33m=\u001b[0m\u001b[1;36m100\u001b[0m\u001b[1;33m,\u001b[0m\u001b[1;33m\u001b[0m\u001b[1;33m\u001b[0m\u001b[0m\n\u001b[0;32m   2351\u001b[0m             \u001b[0mworkers\u001b[0m\u001b[1;33m=\u001b[0m\u001b[0mworkers\u001b[0m\u001b[1;33m,\u001b[0m\u001b[1;33m\u001b[0m\u001b[1;33m\u001b[0m\u001b[0m\n\u001b[1;32m-> 2352\u001b[1;33m             \u001b[0muse_multiprocessing\u001b[0m\u001b[1;33m=\u001b[0m\u001b[1;32mTrue\u001b[0m\u001b[1;33m,\u001b[0m\u001b[1;33m\u001b[0m\u001b[1;33m\u001b[0m\u001b[0m\n\u001b[0m\u001b[0;32m   2353\u001b[0m         )\n\u001b[0;32m   2354\u001b[0m         \u001b[0mself\u001b[0m\u001b[1;33m.\u001b[0m\u001b[0mepoch\u001b[0m \u001b[1;33m=\u001b[0m \u001b[0mmax\u001b[0m\u001b[1;33m(\u001b[0m\u001b[0mself\u001b[0m\u001b[1;33m.\u001b[0m\u001b[0mepoch\u001b[0m\u001b[1;33m,\u001b[0m \u001b[0mepochs\u001b[0m\u001b[1;33m)\u001b[0m\u001b[1;33m\u001b[0m\u001b[1;33m\u001b[0m\u001b[0m\n",
      "\u001b[1;32mD:\\Anaconda3\\envs\\mask_r_cnn\\lib\\site-packages\\keras\\legacy\\interfaces.py\u001b[0m in \u001b[0;36mwrapper\u001b[1;34m(*args, **kwargs)\u001b[0m\n\u001b[0;32m     89\u001b[0m                 warnings.warn('Update your `' + object_name +\n\u001b[0;32m     90\u001b[0m                               '` call to the Keras 2 API: ' + signature, stacklevel=2)\n\u001b[1;32m---> 91\u001b[1;33m             \u001b[1;32mreturn\u001b[0m \u001b[0mfunc\u001b[0m\u001b[1;33m(\u001b[0m\u001b[1;33m*\u001b[0m\u001b[0margs\u001b[0m\u001b[1;33m,\u001b[0m \u001b[1;33m**\u001b[0m\u001b[0mkwargs\u001b[0m\u001b[1;33m)\u001b[0m\u001b[1;33m\u001b[0m\u001b[1;33m\u001b[0m\u001b[0m\n\u001b[0m\u001b[0;32m     92\u001b[0m         \u001b[0mwrapper\u001b[0m\u001b[1;33m.\u001b[0m\u001b[0m_original_function\u001b[0m \u001b[1;33m=\u001b[0m \u001b[0mfunc\u001b[0m\u001b[1;33m\u001b[0m\u001b[1;33m\u001b[0m\u001b[0m\n\u001b[0;32m     93\u001b[0m         \u001b[1;32mreturn\u001b[0m \u001b[0mwrapper\u001b[0m\u001b[1;33m\u001b[0m\u001b[1;33m\u001b[0m\u001b[0m\n",
      "\u001b[1;32mD:\\Anaconda3\\envs\\mask_r_cnn\\lib\\site-packages\\keras\\engine\\training.py\u001b[0m in \u001b[0;36mfit_generator\u001b[1;34m(self, generator, steps_per_epoch, epochs, verbose, callbacks, validation_data, validation_steps, class_weight, max_queue_size, workers, use_multiprocessing, shuffle, initial_epoch)\u001b[0m\n\u001b[0;32m   2222\u001b[0m                     outs = self.train_on_batch(x, y,\n\u001b[0;32m   2223\u001b[0m                                                \u001b[0msample_weight\u001b[0m\u001b[1;33m=\u001b[0m\u001b[0msample_weight\u001b[0m\u001b[1;33m,\u001b[0m\u001b[1;33m\u001b[0m\u001b[1;33m\u001b[0m\u001b[0m\n\u001b[1;32m-> 2224\u001b[1;33m                                                class_weight=class_weight)\n\u001b[0m\u001b[0;32m   2225\u001b[0m \u001b[1;33m\u001b[0m\u001b[0m\n\u001b[0;32m   2226\u001b[0m                     \u001b[1;32mif\u001b[0m \u001b[1;32mnot\u001b[0m \u001b[0misinstance\u001b[0m\u001b[1;33m(\u001b[0m\u001b[0mouts\u001b[0m\u001b[1;33m,\u001b[0m \u001b[0mlist\u001b[0m\u001b[1;33m)\u001b[0m\u001b[1;33m:\u001b[0m\u001b[1;33m\u001b[0m\u001b[1;33m\u001b[0m\u001b[0m\n",
      "\u001b[1;32mD:\\Anaconda3\\envs\\mask_r_cnn\\lib\\site-packages\\keras\\engine\\training.py\u001b[0m in \u001b[0;36mtrain_on_batch\u001b[1;34m(self, x, y, sample_weight, class_weight)\u001b[0m\n\u001b[0;32m   1881\u001b[0m             \u001b[0mins\u001b[0m \u001b[1;33m=\u001b[0m \u001b[0mx\u001b[0m \u001b[1;33m+\u001b[0m \u001b[0my\u001b[0m \u001b[1;33m+\u001b[0m \u001b[0msample_weights\u001b[0m\u001b[1;33m\u001b[0m\u001b[1;33m\u001b[0m\u001b[0m\n\u001b[0;32m   1882\u001b[0m         \u001b[0mself\u001b[0m\u001b[1;33m.\u001b[0m\u001b[0m_make_train_function\u001b[0m\u001b[1;33m(\u001b[0m\u001b[1;33m)\u001b[0m\u001b[1;33m\u001b[0m\u001b[1;33m\u001b[0m\u001b[0m\n\u001b[1;32m-> 1883\u001b[1;33m         \u001b[0moutputs\u001b[0m \u001b[1;33m=\u001b[0m \u001b[0mself\u001b[0m\u001b[1;33m.\u001b[0m\u001b[0mtrain_function\u001b[0m\u001b[1;33m(\u001b[0m\u001b[0mins\u001b[0m\u001b[1;33m)\u001b[0m\u001b[1;33m\u001b[0m\u001b[1;33m\u001b[0m\u001b[0m\n\u001b[0m\u001b[0;32m   1884\u001b[0m         \u001b[1;32mif\u001b[0m \u001b[0mlen\u001b[0m\u001b[1;33m(\u001b[0m\u001b[0moutputs\u001b[0m\u001b[1;33m)\u001b[0m \u001b[1;33m==\u001b[0m \u001b[1;36m1\u001b[0m\u001b[1;33m:\u001b[0m\u001b[1;33m\u001b[0m\u001b[1;33m\u001b[0m\u001b[0m\n\u001b[0;32m   1885\u001b[0m             \u001b[1;32mreturn\u001b[0m \u001b[0moutputs\u001b[0m\u001b[1;33m[\u001b[0m\u001b[1;36m0\u001b[0m\u001b[1;33m]\u001b[0m\u001b[1;33m\u001b[0m\u001b[1;33m\u001b[0m\u001b[0m\n",
      "\u001b[1;32mD:\\Anaconda3\\envs\\mask_r_cnn\\lib\\site-packages\\keras\\backend\\tensorflow_backend.py\u001b[0m in \u001b[0;36m__call__\u001b[1;34m(self, inputs)\u001b[0m\n\u001b[0;32m   2476\u001b[0m         \u001b[0msession\u001b[0m \u001b[1;33m=\u001b[0m \u001b[0mget_session\u001b[0m\u001b[1;33m(\u001b[0m\u001b[1;33m)\u001b[0m\u001b[1;33m\u001b[0m\u001b[1;33m\u001b[0m\u001b[0m\n\u001b[0;32m   2477\u001b[0m         updated = session.run(fetches=fetches, feed_dict=feed_dict,\n\u001b[1;32m-> 2478\u001b[1;33m                               **self.session_kwargs)\n\u001b[0m\u001b[0;32m   2479\u001b[0m         \u001b[1;32mreturn\u001b[0m \u001b[0mupdated\u001b[0m\u001b[1;33m[\u001b[0m\u001b[1;33m:\u001b[0m\u001b[0mlen\u001b[0m\u001b[1;33m(\u001b[0m\u001b[0mself\u001b[0m\u001b[1;33m.\u001b[0m\u001b[0moutputs\u001b[0m\u001b[1;33m)\u001b[0m\u001b[1;33m]\u001b[0m\u001b[1;33m\u001b[0m\u001b[1;33m\u001b[0m\u001b[0m\n\u001b[0;32m   2480\u001b[0m \u001b[1;33m\u001b[0m\u001b[0m\n",
      "\u001b[1;32mD:\\Anaconda3\\envs\\mask_r_cnn\\lib\\site-packages\\tensorflow_core\\python\\client\\session.py\u001b[0m in \u001b[0;36mrun\u001b[1;34m(self, fetches, feed_dict, options, run_metadata)\u001b[0m\n\u001b[0;32m    954\u001b[0m     \u001b[1;32mtry\u001b[0m\u001b[1;33m:\u001b[0m\u001b[1;33m\u001b[0m\u001b[1;33m\u001b[0m\u001b[0m\n\u001b[0;32m    955\u001b[0m       result = self._run(None, fetches, feed_dict, options_ptr,\n\u001b[1;32m--> 956\u001b[1;33m                          run_metadata_ptr)\n\u001b[0m\u001b[0;32m    957\u001b[0m       \u001b[1;32mif\u001b[0m \u001b[0mrun_metadata\u001b[0m\u001b[1;33m:\u001b[0m\u001b[1;33m\u001b[0m\u001b[1;33m\u001b[0m\u001b[0m\n\u001b[0;32m    958\u001b[0m         \u001b[0mproto_data\u001b[0m \u001b[1;33m=\u001b[0m \u001b[0mtf_session\u001b[0m\u001b[1;33m.\u001b[0m\u001b[0mTF_GetBuffer\u001b[0m\u001b[1;33m(\u001b[0m\u001b[0mrun_metadata_ptr\u001b[0m\u001b[1;33m)\u001b[0m\u001b[1;33m\u001b[0m\u001b[1;33m\u001b[0m\u001b[0m\n",
      "\u001b[1;32mD:\\Anaconda3\\envs\\mask_r_cnn\\lib\\site-packages\\tensorflow_core\\python\\client\\session.py\u001b[0m in \u001b[0;36m_run\u001b[1;34m(self, handle, fetches, feed_dict, options, run_metadata)\u001b[0m\n\u001b[0;32m   1178\u001b[0m     \u001b[1;32mif\u001b[0m \u001b[0mfinal_fetches\u001b[0m \u001b[1;32mor\u001b[0m \u001b[0mfinal_targets\u001b[0m \u001b[1;32mor\u001b[0m \u001b[1;33m(\u001b[0m\u001b[0mhandle\u001b[0m \u001b[1;32mand\u001b[0m \u001b[0mfeed_dict_tensor\u001b[0m\u001b[1;33m)\u001b[0m\u001b[1;33m:\u001b[0m\u001b[1;33m\u001b[0m\u001b[1;33m\u001b[0m\u001b[0m\n\u001b[0;32m   1179\u001b[0m       results = self._do_run(handle, final_targets, final_fetches,\n\u001b[1;32m-> 1180\u001b[1;33m                              feed_dict_tensor, options, run_metadata)\n\u001b[0m\u001b[0;32m   1181\u001b[0m     \u001b[1;32melse\u001b[0m\u001b[1;33m:\u001b[0m\u001b[1;33m\u001b[0m\u001b[1;33m\u001b[0m\u001b[0m\n\u001b[0;32m   1182\u001b[0m       \u001b[0mresults\u001b[0m \u001b[1;33m=\u001b[0m \u001b[1;33m[\u001b[0m\u001b[1;33m]\u001b[0m\u001b[1;33m\u001b[0m\u001b[1;33m\u001b[0m\u001b[0m\n",
      "\u001b[1;32mD:\\Anaconda3\\envs\\mask_r_cnn\\lib\\site-packages\\tensorflow_core\\python\\client\\session.py\u001b[0m in \u001b[0;36m_do_run\u001b[1;34m(self, handle, target_list, fetch_list, feed_dict, options, run_metadata)\u001b[0m\n\u001b[0;32m   1357\u001b[0m     \u001b[1;32mif\u001b[0m \u001b[0mhandle\u001b[0m \u001b[1;32mis\u001b[0m \u001b[1;32mNone\u001b[0m\u001b[1;33m:\u001b[0m\u001b[1;33m\u001b[0m\u001b[1;33m\u001b[0m\u001b[0m\n\u001b[0;32m   1358\u001b[0m       return self._do_call(_run_fn, feeds, fetches, targets, options,\n\u001b[1;32m-> 1359\u001b[1;33m                            run_metadata)\n\u001b[0m\u001b[0;32m   1360\u001b[0m     \u001b[1;32melse\u001b[0m\u001b[1;33m:\u001b[0m\u001b[1;33m\u001b[0m\u001b[1;33m\u001b[0m\u001b[0m\n\u001b[0;32m   1361\u001b[0m       \u001b[1;32mreturn\u001b[0m \u001b[0mself\u001b[0m\u001b[1;33m.\u001b[0m\u001b[0m_do_call\u001b[0m\u001b[1;33m(\u001b[0m\u001b[0m_prun_fn\u001b[0m\u001b[1;33m,\u001b[0m \u001b[0mhandle\u001b[0m\u001b[1;33m,\u001b[0m \u001b[0mfeeds\u001b[0m\u001b[1;33m,\u001b[0m \u001b[0mfetches\u001b[0m\u001b[1;33m)\u001b[0m\u001b[1;33m\u001b[0m\u001b[1;33m\u001b[0m\u001b[0m\n",
      "\u001b[1;32mD:\\Anaconda3\\envs\\mask_r_cnn\\lib\\site-packages\\tensorflow_core\\python\\client\\session.py\u001b[0m in \u001b[0;36m_do_call\u001b[1;34m(self, fn, *args)\u001b[0m\n\u001b[0;32m   1363\u001b[0m   \u001b[1;32mdef\u001b[0m \u001b[0m_do_call\u001b[0m\u001b[1;33m(\u001b[0m\u001b[0mself\u001b[0m\u001b[1;33m,\u001b[0m \u001b[0mfn\u001b[0m\u001b[1;33m,\u001b[0m \u001b[1;33m*\u001b[0m\u001b[0margs\u001b[0m\u001b[1;33m)\u001b[0m\u001b[1;33m:\u001b[0m\u001b[1;33m\u001b[0m\u001b[1;33m\u001b[0m\u001b[0m\n\u001b[0;32m   1364\u001b[0m     \u001b[1;32mtry\u001b[0m\u001b[1;33m:\u001b[0m\u001b[1;33m\u001b[0m\u001b[1;33m\u001b[0m\u001b[0m\n\u001b[1;32m-> 1365\u001b[1;33m       \u001b[1;32mreturn\u001b[0m \u001b[0mfn\u001b[0m\u001b[1;33m(\u001b[0m\u001b[1;33m*\u001b[0m\u001b[0margs\u001b[0m\u001b[1;33m)\u001b[0m\u001b[1;33m\u001b[0m\u001b[1;33m\u001b[0m\u001b[0m\n\u001b[0m\u001b[0;32m   1366\u001b[0m     \u001b[1;32mexcept\u001b[0m \u001b[0merrors\u001b[0m\u001b[1;33m.\u001b[0m\u001b[0mOpError\u001b[0m \u001b[1;32mas\u001b[0m \u001b[0me\u001b[0m\u001b[1;33m:\u001b[0m\u001b[1;33m\u001b[0m\u001b[1;33m\u001b[0m\u001b[0m\n\u001b[0;32m   1367\u001b[0m       \u001b[0mmessage\u001b[0m \u001b[1;33m=\u001b[0m \u001b[0mcompat\u001b[0m\u001b[1;33m.\u001b[0m\u001b[0mas_text\u001b[0m\u001b[1;33m(\u001b[0m\u001b[0me\u001b[0m\u001b[1;33m.\u001b[0m\u001b[0mmessage\u001b[0m\u001b[1;33m)\u001b[0m\u001b[1;33m\u001b[0m\u001b[1;33m\u001b[0m\u001b[0m\n",
      "\u001b[1;32mD:\\Anaconda3\\envs\\mask_r_cnn\\lib\\site-packages\\tensorflow_core\\python\\client\\session.py\u001b[0m in \u001b[0;36m_run_fn\u001b[1;34m(feed_dict, fetch_list, target_list, options, run_metadata)\u001b[0m\n\u001b[0;32m   1348\u001b[0m       \u001b[0mself\u001b[0m\u001b[1;33m.\u001b[0m\u001b[0m_extend_graph\u001b[0m\u001b[1;33m(\u001b[0m\u001b[1;33m)\u001b[0m\u001b[1;33m\u001b[0m\u001b[1;33m\u001b[0m\u001b[0m\n\u001b[0;32m   1349\u001b[0m       return self._call_tf_sessionrun(options, feed_dict, fetch_list,\n\u001b[1;32m-> 1350\u001b[1;33m                                       target_list, run_metadata)\n\u001b[0m\u001b[0;32m   1351\u001b[0m \u001b[1;33m\u001b[0m\u001b[0m\n\u001b[0;32m   1352\u001b[0m     \u001b[1;32mdef\u001b[0m \u001b[0m_prun_fn\u001b[0m\u001b[1;33m(\u001b[0m\u001b[0mhandle\u001b[0m\u001b[1;33m,\u001b[0m \u001b[0mfeed_dict\u001b[0m\u001b[1;33m,\u001b[0m \u001b[0mfetch_list\u001b[0m\u001b[1;33m)\u001b[0m\u001b[1;33m:\u001b[0m\u001b[1;33m\u001b[0m\u001b[1;33m\u001b[0m\u001b[0m\n",
      "\u001b[1;32mD:\\Anaconda3\\envs\\mask_r_cnn\\lib\\site-packages\\tensorflow_core\\python\\client\\session.py\u001b[0m in \u001b[0;36m_call_tf_sessionrun\u001b[1;34m(self, options, feed_dict, fetch_list, target_list, run_metadata)\u001b[0m\n\u001b[0;32m   1441\u001b[0m     return tf_session.TF_SessionRun_wrapper(self._session, options, feed_dict,\n\u001b[0;32m   1442\u001b[0m                                             \u001b[0mfetch_list\u001b[0m\u001b[1;33m,\u001b[0m \u001b[0mtarget_list\u001b[0m\u001b[1;33m,\u001b[0m\u001b[1;33m\u001b[0m\u001b[1;33m\u001b[0m\u001b[0m\n\u001b[1;32m-> 1443\u001b[1;33m                                             run_metadata)\n\u001b[0m\u001b[0;32m   1444\u001b[0m \u001b[1;33m\u001b[0m\u001b[0m\n\u001b[0;32m   1445\u001b[0m   \u001b[1;32mdef\u001b[0m \u001b[0m_call_tf_sessionprun\u001b[0m\u001b[1;33m(\u001b[0m\u001b[0mself\u001b[0m\u001b[1;33m,\u001b[0m \u001b[0mhandle\u001b[0m\u001b[1;33m,\u001b[0m \u001b[0mfeed_dict\u001b[0m\u001b[1;33m,\u001b[0m \u001b[0mfetch_list\u001b[0m\u001b[1;33m)\u001b[0m\u001b[1;33m:\u001b[0m\u001b[1;33m\u001b[0m\u001b[1;33m\u001b[0m\u001b[0m\n",
      "\u001b[1;31mKeyboardInterrupt\u001b[0m: "
     ]
    }
   ],
   "metadata": {
    "colab": {
     "base_uri": "https://localhost:8080/"
    },
    "id": "8UKrwQ0FaRxE",
    "outputId": "a2f015e2-9920-4753-9fcd-5d81c109fe0f"
   }
  },
  {
   "cell_type": "code",
   "execution_count": null,
   "source": [
    "# Fine tune all layers\r\n",
    "# Passing layers=\"all\" trains all layers. You can also\r\n",
    "# pass a regular expression to select which layers to\r\n",
    "# train by name pattern.\r\n",
    "model.train(dataset_train, dataset_val,\r\n",
    "            learning_rate=config.LEARNING_RATE / 10,\r\n",
    "            epochs=5,\r\n",
    "            layers=\"all\")"
   ],
   "outputs": [],
   "metadata": {
    "colab": {
     "base_uri": "https://localhost:8080/"
    },
    "id": "ZQG_YOmqaRxE",
    "outputId": "bb22e77d-e648-454e-a57b-594cbabb071d"
   }
  },
  {
   "cell_type": "markdown",
   "source": [
    "保存模型权重"
   ],
   "metadata": {
    "id": "byQhYxkFwDzC"
   }
  },
  {
   "cell_type": "code",
   "execution_count": null,
   "source": [
    "# Save weights\r\n",
    "# Typically not needed because callbacks save after every epoch\r\n",
    "# Uncomment to save manually\r\n",
    "model_save_path = os.path.join(MODEL_DIR, \"saved_weight/mask_rcnn_category.h5\")\r\n",
    "model.keras_model.save_weights(model_save_path)"
   ],
   "outputs": [],
   "metadata": {
    "id": "W1Q9DbyBu_5K"
   }
  },
  {
   "cell_type": "markdown",
   "source": [
    "# Detection"
   ],
   "metadata": {
    "id": "r-Opwt7okwZn"
   }
  },
  {
   "cell_type": "code",
   "execution_count": null,
   "source": [
    "class InferenceConfig(CategoryConfig):\r\n",
    "    GPU_COUNT = 1\r\n",
    "    IMAGES_PER_GPU = 1\r\n",
    "\r\n",
    "inference_config = InferenceConfig()\r\n",
    "\r\n",
    "# Recreate the model in inference mode\r\n",
    "model = modellib.MaskRCNN(mode=\"inference\", \r\n",
    "                          config=inference_config,\r\n",
    "                          model_dir=MODEL_DIR)\r\n",
    "\r\n",
    "# Get path to saved weights\r\n",
    "# Either set a specific path or find last trained weights\r\n",
    "# model_path = os.path.join(ROOT_DIR, \".h5 file name here\")\r\n",
    "model_path = 'logs/mask_rcnn_shapes.h5'\r\n",
    "\r\n",
    "# Load trained weights\r\n",
    "print(\"Loading weights from \", model_path)\r\n",
    "model.load_weights(model_path, by_name=True)"
   ],
   "outputs": [],
   "metadata": {
    "colab": {
     "base_uri": "https://localhost:8080/"
    },
    "id": "WGdqNggrk0UM",
    "outputId": "77085206-2245-4233-ce24-11377073449c"
   }
  },
  {
   "cell_type": "code",
   "execution_count": null,
   "source": [
    "# Test on a random image\r\n",
    "image_id = random.choice(dataset_val.image_ids)\r\n",
    "original_image, image_meta, gt_class_id, gt_bbox, gt_mask =\\\r\n",
    "    modellib.load_image_gt(dataset_val, inference_config, \r\n",
    "                           image_id, use_mini_mask=False)\r\n",
    "\r\n",
    "log(\"original_image\", original_image)\r\n",
    "log(\"image_meta\", image_meta)\r\n",
    "log(\"gt_class_id\", gt_class_id)\r\n",
    "log(\"gt_bbox\", gt_bbox)\r\n",
    "log(\"gt_mask\", gt_mask)\r\n",
    "\r\n",
    "visualize.display_instances(original_image, gt_bbox, gt_mask, gt_class_id, \r\n",
    "                            dataset_train.class_names, figsize=(8, 8))"
   ],
   "outputs": [],
   "metadata": {
    "colab": {
     "base_uri": "https://localhost:8080/",
     "height": 566
    },
    "id": "hfHDY5i5k4Zc",
    "outputId": "c5595957-90a3-4fa6-e6b6-50b7ebb94d2b"
   }
  },
  {
   "cell_type": "code",
   "execution_count": null,
   "source": [
    "results = model.detect([original_image], verbose=1)\r\n",
    "\r\n",
    "r = results[0]\r\n",
    "visualize.display_instances(original_image, r['rois'], r['masks'], r['class_ids'], \r\n",
    "                            dataset_val.class_names, r['scores'], ax=get_ax())"
   ],
   "outputs": [],
   "metadata": {
    "colab": {
     "base_uri": "https://localhost:8080/",
     "height": 549
    },
    "id": "TS2jWNU6k-sy",
    "outputId": "9b830977-09c4-45bc-a399-41950daafa7e"
   }
  },
  {
   "cell_type": "markdown",
   "source": [
    "# Evaluation"
   ],
   "metadata": {
    "id": "zbQL6GRlRUjh"
   }
  },
  {
   "cell_type": "code",
   "execution_count": null,
   "source": [
    "# Compute VOC-Style mAP @ IoU=0.5\r\n",
    "# Running on 10 images. Increase for better accuracy.\r\n",
    "image_ids = np.random.choice(dataset_val.image_ids, 10)\r\n",
    "APs = []\r\n",
    "for image_id in image_ids:\r\n",
    "    # Load image and ground truth data\r\n",
    "    image, image_meta, gt_class_id, gt_bbox, gt_mask =\\\r\n",
    "        modellib.load_image_gt(dataset_val, inference_config,\r\n",
    "                               image_id, use_mini_mask=False)\r\n",
    "    molded_images = np.expand_dims(modellib.mold_image(image, inference_config), 0)\r\n",
    "    # Run object detection\r\n",
    "    results = model.detect([image], verbose=0)\r\n",
    "    r = results[0]\r\n",
    "    # Compute AP\r\n",
    "    AP, precisions, recalls, overlaps =\\\r\n",
    "        utils.compute_ap(gt_bbox, gt_class_id, gt_mask,\r\n",
    "                         r[\"rois\"], r[\"class_ids\"], r[\"scores\"], r['masks'])\r\n",
    "    APs.append(AP)\r\n",
    "    \r\n",
    "print(\"mAP: \", np.mean(APs))"
   ],
   "outputs": [],
   "metadata": {
    "colab": {
     "base_uri": "https://localhost:8080/"
    },
    "id": "vnQDkqg4RT7a",
    "outputId": "bd422df8-f001-417f-c373-ad89c4e27acd"
   }
  }
 ],
 "metadata": {
  "accelerator": "GPU",
  "colab": {
   "collapsed_sections": [],
   "history_visible": true,
   "name": "train_category.ipynb",
   "provenance": []
  },
  "kernelspec": {
   "name": "python3",
   "display_name": "Python 3.7.11 64-bit ('mask_r_cnn': conda)"
  },
  "language_info": {
   "codemirror_mode": {
    "name": "ipython",
    "version": 3
   },
   "file_extension": ".py",
   "mimetype": "text/x-python",
   "name": "python",
   "nbconvert_exporter": "python",
   "pygments_lexer": "ipython3",
   "version": "3.7.11"
  },
  "interpreter": {
   "hash": "1f23f9f943ec8a8b3fc996e19d58a138cffa666a1d3bfa17bbeb8f2ca2619c04"
  }
 },
 "nbformat": 4,
 "nbformat_minor": 1
}